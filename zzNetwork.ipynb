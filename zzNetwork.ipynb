{
 "cells": [
  {
   "cell_type": "code",
   "execution_count": 36,
   "metadata": {},
   "outputs": [],
   "source": [
    "import networkx as nx"
   ]
  },
  {
   "cell_type": "code",
   "execution_count": 37,
   "metadata": {},
   "outputs": [],
   "source": [
    "GG = nx.Graph()\n",
    "GG.add_nodes_from([\n",
    "    (1, {\"color\": \"red\",\"name\":'A'}),\n",
    "    (2, {\"color\": \"green\",\"name\":'B'}),\n",
    "    (3, {\"color\": \"blue\",\"name\":'C'}),\n",
    "    (4, {\"color\": \"red\",\"name\":'D'}),\n",
    "    (5, {\"color\": \"green\",\"name\":'D'}),\n",
    "    (6, {\"color\": \"blue\",\"name\":'E'}),\n",
    "    (7, {\"color\": \"red\",\"name\":'F'}),\n",
    "    (8, {\"color\": \"green\",\"name\":'G'}),\n",
    "    (9, {\"color\": \"blue\",\"name\":'H'})\n",
    "])"
   ]
  },
  {
   "cell_type": "code",
   "execution_count": 38,
   "metadata": {},
   "outputs": [],
   "source": [
    "GG.add_edge(1, 2, weight=5)\n",
    "GG.add_edge(1, 3, weight=3)\n",
    "GG.add_edge(3, 2, weight=1)\n",
    "GG.add_edge(4, 3, weight=2)\n",
    "GG.add_edge(9, 2, weight=4)\n",
    "GG.add_edge(5, 6, weight=6)\n",
    "GG.add_edge(2, 5, weight=7)\n",
    "GG.add_edge(6, 3, weight=2)\n",
    "GG.add_edge(7, 2, weight=1)\n",
    "GG.add_edge(5, 3, weight=3)\n",
    "GG.add_edge(1, 4, weight=5)\n",
    "GG.add_edge(1, 9, weight=8)\n",
    "GG.add_edge(8, 6, weight=2)\n",
    "GG.add_edge(8, 4, weight=5)\n",
    "GG.add_edge(7, 8, weight=1)\n",
    "GG.add_edge(8, 9, weight=2)"
   ]
  },
  {
   "cell_type": "code",
   "execution_count": 39,
   "metadata": {},
   "outputs": [],
   "source": [
    "from bokeh.io import output_file, show\n",
    "from bokeh.plotting import figure, from_networkx\n",
    "\n",
    "#G = nx.karate_club_graph()\n",
    "\n",
    "plot = figure(title=\"Networkx Integration Demonstration\",# x_range=(-1.1,1.1), y_range=(-1.1,1.1),\n",
    "              tools=\"\", toolbar_location=None)\n",
    "\n",
    "graph = from_networkx(G, nx.spring_layout, scale=2, center=(0,0))\n",
    "plot.renderers.append(graph)\n",
    "\n",
    "#output_file(\"networkx_graph.html\")\n",
    "show(plot)"
   ]
  },
  {
   "cell_type": "code",
   "execution_count": 40,
   "metadata": {},
   "outputs": [
    {
     "data": {
      "text/plain": [
       "{'club': 'Mr. Hi'}"
      ]
     },
     "execution_count": 40,
     "metadata": {},
     "output_type": "execute_result"
    }
   ],
   "source": [
    "nx.karate_club_graph().nodes[0]"
   ]
  },
  {
   "cell_type": "code",
   "execution_count": 41,
   "metadata": {},
   "outputs": [
    {
     "data": {
      "text/plain": [
       "EdgeView([(1, 2), (1, 3), (1, 4), (1, 9), (2, 3), (2, 9), (2, 5), (2, 7), (3, 4), (3, 6), (3, 5), (4, 8), (5, 6), (6, 8), (7, 8), (8, 9)])"
      ]
     },
     "execution_count": 41,
     "metadata": {},
     "output_type": "execute_result"
    }
   ],
   "source": [
    "GG.edges"
   ]
  },
  {
   "cell_type": "code",
   "execution_count": 42,
   "metadata": {},
   "outputs": [
    {
     "data": {
      "text/plain": [
       "{1: array([0.0968951, 0.02563  ]),\n",
       " 2: array([-0.25192592, -0.43588258]),\n",
       " 3: array([-0.37723015,  0.43656595]),\n",
       " 4: array([0.30252391, 0.69511605]),\n",
       " 5: array([-0.78437599, -0.12001892]),\n",
       " 6: array([-0.7816064,  0.3956733]),\n",
       " 7: array([ 1.        , -0.85856535]),\n",
       " 8: array([0.48320822, 0.27574373]),\n",
       " 9: array([ 0.31251121, -0.41426217])}"
      ]
     },
     "execution_count": 42,
     "metadata": {},
     "output_type": "execute_result"
    }
   ],
   "source": [
    "nx.spring_layout(GG)"
   ]
  },
  {
   "cell_type": "code",
   "execution_count": 43,
   "metadata": {},
   "outputs": [
    {
     "data": {
      "text/html": [
       "<div style=\"display: table;\"><div style=\"display: table-row;\"><div style=\"display: table-cell;\"><b title=\"bokeh.models.renderers.graph_renderer.GraphRenderer\">GraphRenderer</b>(</div><div style=\"display: table-cell;\">id&nbsp;=&nbsp;'p9066', <span id=\"p9099\" style=\"cursor: pointer;\">&hellip;)</span></div></div><div class=\"p9098\" style=\"display: none;\"><div style=\"display: table-cell;\"></div><div style=\"display: table-cell;\">coordinates&nbsp;=&nbsp;None,</div></div><div class=\"p9098\" style=\"display: none;\"><div style=\"display: table-cell;\"></div><div style=\"display: table-cell;\">edge_renderer&nbsp;=&nbsp;GlyphRenderer(id='p9071', ...),</div></div><div class=\"p9098\" style=\"display: none;\"><div style=\"display: table-cell;\"></div><div style=\"display: table-cell;\">group&nbsp;=&nbsp;None,</div></div><div class=\"p9098\" style=\"display: none;\"><div style=\"display: table-cell;\"></div><div style=\"display: table-cell;\">inspection_policy&nbsp;=&nbsp;NodesOnly(id='p9075', ...),</div></div><div class=\"p9098\" style=\"display: none;\"><div style=\"display: table-cell;\"></div><div style=\"display: table-cell;\">js_event_callbacks&nbsp;=&nbsp;{},</div></div><div class=\"p9098\" style=\"display: none;\"><div style=\"display: table-cell;\"></div><div style=\"display: table-cell;\">js_property_callbacks&nbsp;=&nbsp;{},</div></div><div class=\"p9098\" style=\"display: none;\"><div style=\"display: table-cell;\"></div><div style=\"display: table-cell;\">layout_provider&nbsp;=&nbsp;StaticLayoutProvider(id='p9097', ...),</div></div><div class=\"p9098\" style=\"display: none;\"><div style=\"display: table-cell;\"></div><div style=\"display: table-cell;\">level&nbsp;=&nbsp;'glyph',</div></div><div class=\"p9098\" style=\"display: none;\"><div style=\"display: table-cell;\"></div><div style=\"display: table-cell;\">name&nbsp;=&nbsp;None,</div></div><div class=\"p9098\" style=\"display: none;\"><div style=\"display: table-cell;\"></div><div style=\"display: table-cell;\">node_renderer&nbsp;=&nbsp;GlyphRenderer(id='p9080', ...),</div></div><div class=\"p9098\" style=\"display: none;\"><div style=\"display: table-cell;\"></div><div style=\"display: table-cell;\">selection_policy&nbsp;=&nbsp;NodesOnly(id='p9074', ...),</div></div><div class=\"p9098\" style=\"display: none;\"><div style=\"display: table-cell;\"></div><div style=\"display: table-cell;\">subscribed_events&nbsp;=&nbsp;PropertyValueSet(),</div></div><div class=\"p9098\" style=\"display: none;\"><div style=\"display: table-cell;\"></div><div style=\"display: table-cell;\">syncable&nbsp;=&nbsp;True,</div></div><div class=\"p9098\" style=\"display: none;\"><div style=\"display: table-cell;\"></div><div style=\"display: table-cell;\">tags&nbsp;=&nbsp;[],</div></div><div class=\"p9098\" style=\"display: none;\"><div style=\"display: table-cell;\"></div><div style=\"display: table-cell;\">visible&nbsp;=&nbsp;True,</div></div><div class=\"p9098\" style=\"display: none;\"><div style=\"display: table-cell;\"></div><div style=\"display: table-cell;\">x_range_name&nbsp;=&nbsp;'default',</div></div><div class=\"p9098\" style=\"display: none;\"><div style=\"display: table-cell;\"></div><div style=\"display: table-cell;\">y_range_name&nbsp;=&nbsp;'default')</div></div></div>\n",
       "<script>\n",
       "(function() {\n",
       "  let expanded = false;\n",
       "  const ellipsis = document.getElementById(\"p9099\");\n",
       "  ellipsis.addEventListener(\"click\", function() {\n",
       "    const rows = document.getElementsByClassName(\"p9098\");\n",
       "    for (let i = 0; i < rows.length; i++) {\n",
       "      const el = rows[i];\n",
       "      el.style.display = expanded ? \"none\" : \"table-row\";\n",
       "    }\n",
       "    ellipsis.innerHTML = expanded ? \"&hellip;)\" : \"&lsaquo;&lsaquo;&lsaquo;\";\n",
       "    expanded = !expanded;\n",
       "  });\n",
       "})();\n",
       "</script>\n"
      ],
      "text/plain": [
       "GraphRenderer(id='p9066', ...)"
      ]
     },
     "execution_count": 43,
     "metadata": {},
     "output_type": "execute_result"
    }
   ],
   "source": [
    "from_networkx(GG,nx.spring_layout)"
   ]
  },
  {
   "cell_type": "code",
   "execution_count": 44,
   "metadata": {},
   "outputs": [
    {
     "ename": "ValueError",
     "evalue": "failed to validate ColumnDataSource(id='p9160', ...).data: expected an element of ColumnData(String, Seq(Any)), got {'index': [0, 1, 2, 3, 4, 5, 6, 7], 'fill_color': 'red'}",
     "output_type": "error",
     "traceback": [
      "\u001b[1;31m---------------------------------------------------------------------------\u001b[0m",
      "\u001b[1;31mValueError\u001b[0m                                Traceback (most recent call last)",
      "\u001b[1;32mc:\\Users\\cleme\\OneDrive\\Documents\\Moui\\ESILV A4\\S8\\Data on the Web\\Web datamining\\Projet\\zzNetwork.ipynb Cell 9\u001b[0m in \u001b[0;36m<module>\u001b[1;34m\u001b[0m\n\u001b[0;32m     <a href='vscode-notebook-cell:/c%3A/Users/cleme/OneDrive/Documents/Moui/ESILV%20A4/S8/Data%20on%20the%20Web/Web%20datamining/Projet/zzNetwork.ipynb#X24sZmlsZQ%3D%3D?line=12'>13</a>\u001b[0m graph\u001b[39m.\u001b[39mnode_renderer\u001b[39m.\u001b[39mglyph \u001b[39m=\u001b[39m Ellipse(height\u001b[39m=\u001b[39m\u001b[39m0.1\u001b[39m, width\u001b[39m=\u001b[39m\u001b[39m0.2\u001b[39m,\n\u001b[0;32m     <a href='vscode-notebook-cell:/c%3A/Users/cleme/OneDrive/Documents/Moui/ESILV%20A4/S8/Data%20on%20the%20Web/Web%20datamining/Projet/zzNetwork.ipynb#X24sZmlsZQ%3D%3D?line=13'>14</a>\u001b[0m                                     fill_color\u001b[39m=\u001b[39m\u001b[39m\"\u001b[39m\u001b[39mfill_color\u001b[39m\u001b[39m\"\u001b[39m)\n\u001b[0;32m     <a href='vscode-notebook-cell:/c%3A/Users/cleme/OneDrive/Documents/Moui/ESILV%20A4/S8/Data%20on%20the%20Web/Web%20datamining/Projet/zzNetwork.ipynb#X24sZmlsZQ%3D%3D?line=15'>16</a>\u001b[0m \u001b[39m# assign a palette to ``fill_color`` and add it to the data source\u001b[39;00m\n\u001b[1;32m---> <a href='vscode-notebook-cell:/c%3A/Users/cleme/OneDrive/Documents/Moui/ESILV%20A4/S8/Data%20on%20the%20Web/Web%20datamining/Projet/zzNetwork.ipynb#X24sZmlsZQ%3D%3D?line=16'>17</a>\u001b[0m graph\u001b[39m.\u001b[39mnode_renderer\u001b[39m.\u001b[39mdata_source\u001b[39m.\u001b[39mdata \u001b[39m=\u001b[39m \u001b[39mdict\u001b[39m(\n\u001b[0;32m     <a href='vscode-notebook-cell:/c%3A/Users/cleme/OneDrive/Documents/Moui/ESILV%20A4/S8/Data%20on%20the%20Web/Web%20datamining/Projet/zzNetwork.ipynb#X24sZmlsZQ%3D%3D?line=17'>18</a>\u001b[0m     index\u001b[39m=\u001b[39mnode_indices,\n\u001b[0;32m     <a href='vscode-notebook-cell:/c%3A/Users/cleme/OneDrive/Documents/Moui/ESILV%20A4/S8/Data%20on%20the%20Web/Web%20datamining/Projet/zzNetwork.ipynb#X24sZmlsZQ%3D%3D?line=18'>19</a>\u001b[0m     fill_color\u001b[39m=\u001b[39m\u001b[39m\"\u001b[39m\u001b[39mred\u001b[39m\u001b[39m\"\u001b[39m)\n",
      "File \u001b[1;32mc:\\Users\\cleme\\AppData\\Local\\Programs\\Python\\Python310\\lib\\site-packages\\bokeh\\core\\has_props.py:327\u001b[0m, in \u001b[0;36mHasProps.__setattr__\u001b[1;34m(self, name, value)\u001b[0m\n\u001b[0;32m    325\u001b[0m properties \u001b[39m=\u001b[39m \u001b[39mself\u001b[39m\u001b[39m.\u001b[39mproperties(_with_props\u001b[39m=\u001b[39m\u001b[39mTrue\u001b[39;00m)\n\u001b[0;32m    326\u001b[0m \u001b[39mif\u001b[39;00m name \u001b[39min\u001b[39;00m properties:\n\u001b[1;32m--> 327\u001b[0m     \u001b[39mreturn\u001b[39;00m \u001b[39msuper\u001b[39;49m()\u001b[39m.\u001b[39;49m\u001b[39m__setattr__\u001b[39;49m(name, value)\n\u001b[0;32m    329\u001b[0m descriptor \u001b[39m=\u001b[39m \u001b[39mgetattr\u001b[39m(\u001b[39mself\u001b[39m\u001b[39m.\u001b[39m\u001b[39m__class__\u001b[39m, name, \u001b[39mNone\u001b[39;00m)\n\u001b[0;32m    330\u001b[0m \u001b[39mif\u001b[39;00m \u001b[39misinstance\u001b[39m(descriptor, \u001b[39mproperty\u001b[39m): \u001b[39m# Python property\u001b[39;00m\n",
      "File \u001b[1;32mc:\\Users\\cleme\\AppData\\Local\\Programs\\Python\\Python310\\lib\\site-packages\\bokeh\\core\\property\\descriptors.py:721\u001b[0m, in \u001b[0;36mColumnDataPropertyDescriptor.__set__\u001b[1;34m(self, obj, value, setter)\u001b[0m\n\u001b[0;32m    718\u001b[0m \u001b[39mfrom\u001b[39;00m \u001b[39m.\u001b[39;00m\u001b[39m.\u001b[39;00m\u001b[39m.\u001b[39;00m\u001b[39mdocument\u001b[39;00m\u001b[39m.\u001b[39;00m\u001b[39mevents\u001b[39;00m \u001b[39mimport\u001b[39;00m ColumnDataChangedEvent\n\u001b[0;32m    719\u001b[0m hint \u001b[39m=\u001b[39m ColumnDataChangedEvent(obj\u001b[39m.\u001b[39mdocument, obj, \u001b[39m\"\u001b[39m\u001b[39mdata\u001b[39m\u001b[39m\"\u001b[39m, setter\u001b[39m=\u001b[39msetter) \u001b[39mif\u001b[39;00m obj\u001b[39m.\u001b[39mdocument \u001b[39melse\u001b[39;00m \u001b[39mNone\u001b[39;00m\n\u001b[1;32m--> 721\u001b[0m value \u001b[39m=\u001b[39m \u001b[39mself\u001b[39;49m\u001b[39m.\u001b[39;49mproperty\u001b[39m.\u001b[39;49mprepare_value(obj, \u001b[39mself\u001b[39;49m\u001b[39m.\u001b[39;49mname, value)\n\u001b[0;32m    722\u001b[0m old \u001b[39m=\u001b[39m \u001b[39mself\u001b[39m\u001b[39m.\u001b[39m_get(obj)\n\u001b[0;32m    723\u001b[0m \u001b[39mself\u001b[39m\u001b[39m.\u001b[39m_set(obj, old, value, hint\u001b[39m=\u001b[39mhint, setter\u001b[39m=\u001b[39msetter)\n",
      "File \u001b[1;32mc:\\Users\\cleme\\AppData\\Local\\Programs\\Python\\Python310\\lib\\site-packages\\bokeh\\core\\property\\bases.py:365\u001b[0m, in \u001b[0;36mProperty.prepare_value\u001b[1;34m(self, owner, name, value, hint)\u001b[0m\n\u001b[0;32m    363\u001b[0m \u001b[39melse\u001b[39;00m:\n\u001b[0;32m    364\u001b[0m     obj_repr \u001b[39m=\u001b[39m owner \u001b[39mif\u001b[39;00m \u001b[39misinstance\u001b[39m(owner, HasProps) \u001b[39melse\u001b[39;00m owner\u001b[39m.\u001b[39m\u001b[39m__name__\u001b[39m\n\u001b[1;32m--> 365\u001b[0m     \u001b[39mraise\u001b[39;00m \u001b[39mValueError\u001b[39;00m(\u001b[39mf\u001b[39m\u001b[39m\"\u001b[39m\u001b[39mfailed to validate \u001b[39m\u001b[39m{\u001b[39;00mobj_repr\u001b[39m}\u001b[39;00m\u001b[39m.\u001b[39m\u001b[39m{\u001b[39;00mname\u001b[39m}\u001b[39;00m\u001b[39m: \u001b[39m\u001b[39m{\u001b[39;00merror\u001b[39m}\u001b[39;00m\u001b[39m\"\u001b[39m)\n\u001b[0;32m    367\u001b[0m \u001b[39mif\u001b[39;00m \u001b[39misinstance\u001b[39m(owner, HasProps):\n\u001b[0;32m    368\u001b[0m     obj \u001b[39m=\u001b[39m owner\n",
      "\u001b[1;31mValueError\u001b[0m: failed to validate ColumnDataSource(id='p9160', ...).data: expected an element of ColumnData(String, Seq(Any)), got {'index': [0, 1, 2, 3, 4, 5, 6, 7], 'fill_color': 'red'}"
     ]
    }
   ],
   "source": [
    "from bokeh.models import GraphRenderer, Ellipse\n",
    "\n",
    "N = 8\n",
    "node_indices = list(range(N))\n",
    "\n",
    "plot = figure(title=\"Graph layout demonstration\", x_range=(-1.1,1.1),\n",
    "              y_range=(-1.1,1.1), tools=\"\", toolbar_location=None)\n",
    "\n",
    "graph = GraphRenderer()\n",
    "\n",
    "# replace the node glyph with an ellipse\n",
    "# set its height, width, and fill_color\n",
    "graph.node_renderer.glyph = Ellipse(height=0.1, width=0.2,\n",
    "                                    fill_color=\"fill_color\")\n",
    "\n",
    "# assign a palette to ``fill_color`` and add it to the data source\n",
    "graph.node_renderer.data_source.data = dict(\n",
    "    index=node_indices,\n",
    "    fill_color=\"red\")"
   ]
  },
  {
   "cell_type": "code",
   "execution_count": 45,
   "metadata": {},
   "outputs": [
    {
     "name": "stderr",
     "output_type": "stream",
     "text": [
      "BokehUserWarning: ColumnDataSource's columns must be of the same length. Current lengths: ('club', 34), ('index', 34), ('name', 8)\n"
     ]
    }
   ],
   "source": [
    "#G = nx.karate_club_graph()\n",
    "from bokeh.io import output_file, show\n",
    "from bokeh.models import (BoxSelectTool, Circle, EdgesAndLinkedNodes, HoverTool,\n",
    "                          MultiLine, NodesAndLinkedEdges, Plot, Range1d, TapTool,BoxZoomTool,ResetTool)\n",
    "from bokeh.palettes import Spectral4\n",
    "from bokeh.plotting import from_networkx\n",
    "from bokeh.models import ColumnDataSource    \n",
    "\n",
    "\n",
    "plot = Plot(width=600, height=600,\n",
    "            x_range=Range1d(-1.1,1.1), y_range=Range1d(-1.1,1.1))\n",
    "plot.title.text = \"Graph Interaction Demonstration\"\n",
    "\n",
    "#plot.add_tools(HoverTool(tooltips=None), TapTool(), BoxSelectTool())\n",
    "\n",
    "graph_renderer = from_networkx(G, nx.spring_layout, scale=1, center=(0,0))\n",
    "x=dict(name=['A', 'B', 'C', 'D', 'E', 'F', 'G', 'H'])\n",
    "source = ColumnDataSource(x)\n",
    "graph_renderer.node_renderer.data_source.data['name'] = x['name']\n",
    "\n",
    "node_hover_tool = HoverTool(tooltips=[(\"name\", \"@index\")])\n",
    "plot.add_tools(node_hover_tool)\n",
    "\n",
    "\n",
    "# fill_color = color : 'color' attribute of a node\n",
    "graph_renderer.node_renderer.glyph = Circle(size=15, fill_color=\"color\")\n",
    "graph_renderer.node_renderer.selection_glyph = Circle(size=15, fill_color=\"color\")\n",
    "graph_renderer.node_renderer.hover_glyph = Circle(size=15, fill_color=\"color\")\n",
    "\n",
    "graph_renderer.edge_renderer.glyph = MultiLine(line_color=\"#CCCCCC\", line_alpha=0.8, line_width=5)\n",
    "graph_renderer.edge_renderer.selection_glyph = MultiLine(line_color=Spectral4[2], line_width=5)\n",
    "graph_renderer.edge_renderer.hover_glyph = MultiLine(line_color=Spectral4[1], line_width=5)\n",
    "\n",
    "graph_renderer.selection_policy = NodesAndLinkedEdges()\n",
    "graph_renderer.inspection_policy = EdgesAndLinkedNodes()\n",
    "\n",
    "\n",
    "\n",
    "plot.renderers.append(graph_renderer)\n",
    "show(plot)\n",
    "\n"
   ]
  },
  {
   "cell_type": "code",
   "execution_count": 48,
   "metadata": {},
   "outputs": [
    {
     "data": {
      "text/plain": [
       "<dict_itemiterator at 0x25faa134770>"
      ]
     },
     "execution_count": 48,
     "metadata": {},
     "output_type": "execute_result"
    }
   ],
   "source": [
    "GG.adjacency()"
   ]
  },
  {
   "cell_type": "code",
   "execution_count": 47,
   "metadata": {},
   "outputs": [
    {
     "ename": "KeyError",
     "evalue": "'pos'",
     "output_type": "error",
     "traceback": [
      "\u001b[1;31m---------------------------------------------------------------------------\u001b[0m",
      "\u001b[1;31mKeyError\u001b[0m                                  Traceback (most recent call last)",
      "\u001b[1;32mc:\\Users\\cleme\\OneDrive\\Documents\\Moui\\ESILV A4\\S8\\Data on the Web\\Web datamining\\Projet\\zzNetwork.ipynb Cell 12\u001b[0m in \u001b[0;36m<module>\u001b[1;34m\u001b[0m\n\u001b[0;32m      <a href='vscode-notebook-cell:/c%3A/Users/cleme/OneDrive/Documents/Moui/ESILV%20A4/S8/Data%20on%20the%20Web/Web%20datamining/Projet/zzNetwork.ipynb#X13sZmlsZQ%3D%3D?line=3'>4</a>\u001b[0m edge_y \u001b[39m=\u001b[39m []\n\u001b[0;32m      <a href='vscode-notebook-cell:/c%3A/Users/cleme/OneDrive/Documents/Moui/ESILV%20A4/S8/Data%20on%20the%20Web/Web%20datamining/Projet/zzNetwork.ipynb#X13sZmlsZQ%3D%3D?line=4'>5</a>\u001b[0m \u001b[39mfor\u001b[39;00m edge \u001b[39min\u001b[39;00m GG\u001b[39m.\u001b[39medges():\n\u001b[1;32m----> <a href='vscode-notebook-cell:/c%3A/Users/cleme/OneDrive/Documents/Moui/ESILV%20A4/S8/Data%20on%20the%20Web/Web%20datamining/Projet/zzNetwork.ipynb#X13sZmlsZQ%3D%3D?line=5'>6</a>\u001b[0m     x0, y0 \u001b[39m=\u001b[39m GG\u001b[39m.\u001b[39;49mnodes[edge[\u001b[39m0\u001b[39;49m]][\u001b[39m'\u001b[39;49m\u001b[39mpos\u001b[39;49m\u001b[39m'\u001b[39;49m]\n\u001b[0;32m      <a href='vscode-notebook-cell:/c%3A/Users/cleme/OneDrive/Documents/Moui/ESILV%20A4/S8/Data%20on%20the%20Web/Web%20datamining/Projet/zzNetwork.ipynb#X13sZmlsZQ%3D%3D?line=6'>7</a>\u001b[0m     x1, y1 \u001b[39m=\u001b[39m GG\u001b[39m.\u001b[39mnodes[edge[\u001b[39m1\u001b[39m]][\u001b[39m'\u001b[39m\u001b[39mpos\u001b[39m\u001b[39m'\u001b[39m]\n\u001b[0;32m      <a href='vscode-notebook-cell:/c%3A/Users/cleme/OneDrive/Documents/Moui/ESILV%20A4/S8/Data%20on%20the%20Web/Web%20datamining/Projet/zzNetwork.ipynb#X13sZmlsZQ%3D%3D?line=7'>8</a>\u001b[0m     edge_x\u001b[39m.\u001b[39mappend(x0)\n",
      "\u001b[1;31mKeyError\u001b[0m: 'pos'"
     ]
    }
   ],
   "source": [
    "import plotly.graph_objects as go\n",
    "\n",
    "edge_x = []\n",
    "edge_y = []\n",
    "for edge in GG.edges():\n",
    "    x0, y0 = GG.nodes[edge[0]]['pos']\n",
    "    x1, y1 = GG.nodes[edge[1]]['pos']\n",
    "    edge_x.append(x0)\n",
    "    edge_x.append(x1)\n",
    "    edge_x.append(None)\n",
    "    edge_y.append(y0)\n",
    "    edge_y.append(y1)\n",
    "    edge_y.append(None)\n",
    "\n",
    "edge_trace = go.Scatter(\n",
    "    x=edge_x, y=edge_y,\n",
    "    line=dict(width=0.5, color='#888'),\n",
    "    hoverinfo='none',\n",
    "    mode='lines')\n",
    "\n",
    "node_x = []\n",
    "node_y = []\n",
    "for node in GG.nodes():\n",
    "    x, y = GG.nodes[node]['pos']\n",
    "    node_x.append(x)\n",
    "    node_y.append(y)\n",
    "\n",
    "node_trace = go.Scatter(\n",
    "    x=node_x, y=node_y,\n",
    "    mode='markers',\n",
    "    hoverinfo='text',\n",
    "    marker=dict(\n",
    "        showscale=True,\n",
    "        # colorscale options\n",
    "        #'Greys' | 'YlGnBu' | 'Greens' | 'YlOrRd' | 'Bluered' | 'RdBu' |\n",
    "        #'Reds' | 'Blues' | 'Picnic' | 'Rainbow' | 'Portland' | 'Jet' |\n",
    "        #'Hot' | 'Blackbody' | 'Earth' | 'Electric' | 'Viridis' |\n",
    "        colorscale='YlGnBu',\n",
    "        reversescale=True,\n",
    "        color=[],\n",
    "        size=10,\n",
    "        colorbar=dict(\n",
    "            thickness=15,\n",
    "            title='Node Connections',\n",
    "            xanchor='left',\n",
    "            titleside='right'\n",
    "        ),\n",
    "        line_width=2))"
   ]
  },
  {
   "cell_type": "code",
   "execution_count": null,
   "metadata": {},
   "outputs": [],
   "source": [
    "from IPython.display import SVG\n",
    "import numpy as np\n",
    "from sknetwork.data import karate_club, painters, movie_actor, load_netset\n",
    "from sknetwork.visualization import svg_graph, svg_bigraph"
   ]
  },
  {
   "cell_type": "code",
   "execution_count": null,
   "metadata": {},
   "outputs": [
    {
     "data": {
      "text/plain": [
       "{'adjacency': <14x14 sparse matrix of type '<class 'numpy.bool_'>'\n",
       " \twith 50 stored elements in Compressed Sparse Row format>,\n",
       " 'names': array(['Pablo Picasso', 'Claude Monet', 'Michel Angelo', 'Edouard Manet',\n",
       "        'Peter Paul Rubens', 'Rembrandt', 'Gustav Klimt', 'Edgar Degas',\n",
       "        'Vincent van Gogh', 'Leonardo da Vinci', 'Henri Matisse',\n",
       "        'Paul Cezanne', 'Pierre-Auguste Renoir', 'Egon Schiele'],\n",
       "       dtype='<U21'),\n",
       " 'position': array([[ 0.24,  0.53],\n",
       "        [-0.47,  0.19],\n",
       "        [-0.3 , -0.71],\n",
       "        [-0.31,  0.44],\n",
       "        [-0.08, -0.48],\n",
       "        [ 0.12, -0.65],\n",
       "        [ 0.78,  0.69],\n",
       "        [-0.36, -0.11],\n",
       "        [ 0.11,  0.01],\n",
       "        [-0.06, -1.  ],\n",
       "        [-0.02,  0.49],\n",
       "        [-0.12,  0.28],\n",
       "        [-0.24,  0.06],\n",
       "        [ 0.73,  0.27]]),\n",
       " 'name': 'painters'}"
      ]
     },
     "execution_count": 110,
     "metadata": {},
     "output_type": "execute_result"
    }
   ],
   "source": [
    "painters(metadata=True)"
   ]
  },
  {
   "cell_type": "code",
   "execution_count": 49,
   "metadata": {},
   "outputs": [
    {
     "data": {
      "text/plain": [
       "dict_values([array([-0.17791147, -0.4184406 ]), array([ 0.17539544, -0.04808721]), array([ 0.25489715, -0.48489815]), array([-0.54728892, -0.28066996]), array([ 0.62947451, -0.14899467]), array([0.48551617, 0.19430285]), array([-0.16959142,  1.        ]), array([-0.39347241,  0.28207311]), array([-0.25701903, -0.09528536])])"
      ]
     },
     "execution_count": 49,
     "metadata": {},
     "output_type": "execute_result"
    }
   ],
   "source": [
    "nx.spring_layout(GG).values()"
   ]
  },
  {
   "cell_type": "code",
   "execution_count": 52,
   "metadata": {},
   "outputs": [
    {
     "data": {
      "text/plain": [
       "array([[-0.3544977 ,  0.34964817],\n",
       "       [-0.25618733,  0.14319177],\n",
       "       [-0.00659612,  0.07913165],\n",
       "       [-0.1157454 ,  0.45169959],\n",
       "       [-0.52671096,  0.7130718 ],\n",
       "       [-0.70683167,  0.7919269 ],\n",
       "       [-0.77556182,  0.68844268],\n",
       "       [-0.12654525,  0.32554211],\n",
       "       [ 0.04426244, -0.13250841],\n",
       "       [-0.13116221, -0.53013451],\n",
       "       [-0.52323779,  0.88779599],\n",
       "       [-0.86494536,  0.35275919],\n",
       "       [-0.09062483,  0.82117521],\n",
       "       [-0.06948771,  0.12925696],\n",
       "       [ 0.15640963, -0.74700891],\n",
       "       [ 0.52700768, -0.5809725 ],\n",
       "       [-1.        ,  0.95872907],\n",
       "       [-0.7001701 ,  0.33822052],\n",
       "       [ 0.74970777, -0.70554576],\n",
       "       [-0.36326848, -0.09700348],\n",
       "       [ 0.52574082, -0.84030157],\n",
       "       [-0.66553998,  0.09750182],\n",
       "       [ 0.70567681, -0.48207345],\n",
       "       [ 0.54160757, -0.33343936],\n",
       "       [ 0.78886648,  0.09871839],\n",
       "       [ 0.66148191, -0.08122262],\n",
       "       [ 0.32670006, -0.92174296],\n",
       "       [ 0.49990698, -0.09118625],\n",
       "       [ 0.36118665,  0.12790459],\n",
       "       [ 0.40092279, -0.67504731],\n",
       "       [ 0.01194517, -0.30803585],\n",
       "       [ 0.35149108, -0.0513673 ],\n",
       "       [ 0.33102437, -0.43105395],\n",
       "       [ 0.29317448, -0.34607222]])"
      ]
     },
     "execution_count": 52,
     "metadata": {},
     "output_type": "execute_result"
    }
   ],
   "source": [
    "import numpy as np\n",
    "position=np.asarray([ t for t in nx.spring_layout(G).values()])\n",
    "position"
   ]
  },
  {
   "cell_type": "code",
   "execution_count": 54,
   "metadata": {},
   "outputs": [],
   "source": [
    "#image = svg_graph(position=position)\n",
    "#SVG(image)"
   ]
  },
  {
   "cell_type": "code",
   "execution_count": 67,
   "metadata": {},
   "outputs": [],
   "source": [
    "import networkx as nx\n",
    "\n",
    "from bokeh.io import output_file, show\n",
    "from bokeh.models import (BoxZoomTool, Circle, HoverTool,\n",
    "                          MultiLine, Plot, Range1d, ResetTool)\n",
    "from bokeh.palettes import Spectral4\n",
    "from bokeh.plotting import from_networkx\n",
    "\n",
    "# Prepare Data\n",
    "G = nx.karate_club_graph()\n",
    "G=GG\n",
    "\n",
    "SAME_CLUB_COLOR, DIFFERENT_CLUB_COLOR = \"black\", \"red\"\n",
    "edge_attrs = {}\n",
    "\n",
    "#for start_node, end_node, _ in G.edges(data=True):\n",
    "#    edge_color = SAME_CLUB_COLOR if G.nodes[start_node][\"club\"] == G.nodes[end_node][\"club\"] else DIFFERENT_CLUB_COLOR\n",
    "#    edge_attrs[(start_node, end_node)] = edge_color\n",
    "#\n",
    "#nx.set_edge_attributes(G, edge_attrs, \"edge_color\")\n",
    "\n",
    "# Show with Bokeh\n",
    "plot = Plot(width=400, height=400,\n",
    "            x_range=Range1d(-1.1, 1.1), y_range=Range1d(-1.1, 1.1))\n",
    "plot.title.text = \"Graph Interaction Demonstration\"\n",
    "\n",
    "node_hover_tool = HoverTool(tooltips=[(\"index\", \"@index\"), (\"name\", \"@name\")])\n",
    "plot.add_tools(node_hover_tool, BoxZoomTool(), ResetTool())\n",
    "\n",
    "graph_renderer = from_networkx(G, nx.spring_layout, scale=1, center=(0, 0))\n",
    "\n",
    "graph_renderer.node_renderer.glyph = Circle(size=15, fill_color=\"color\")\n",
    "#graph_renderer.edge_renderer.glyph = MultiLine(line_color=\"edge_color\", line_alpha=0.8, line_width=1)\n",
    "\n",
    "graph_renderer.edge_renderer.glyph = MultiLine(line_color=\"#CCCCCC\", line_alpha=0.8, line_width=5)\n",
    "graph_renderer.edge_renderer.selection_glyph = MultiLine(line_color=Spectral4[2], line_width=5)\n",
    "graph_renderer.edge_renderer.hover_glyph = MultiLine(line_color=Spectral4[1], line_width=5)\n",
    "\n",
    "plot.renderers.append(graph_renderer)\n",
    "\n",
    "output_file(\"interactive_graphs.html\")\n",
    "show(plot)"
   ]
  },
  {
   "cell_type": "code",
   "execution_count": 64,
   "metadata": {},
   "outputs": [
    {
     "data": {
      "text/plain": [
       "NodeDataView({0: {'club': 'Mr. Hi'}, 1: {'club': 'Mr. Hi'}, 2: {'club': 'Mr. Hi'}, 3: {'club': 'Mr. Hi'}, 4: {'club': 'Mr. Hi'}, 5: {'club': 'Mr. Hi'}, 6: {'club': 'Mr. Hi'}, 7: {'club': 'Mr. Hi'}, 8: {'club': 'Mr. Hi'}, 9: {'club': 'Officer'}, 10: {'club': 'Mr. Hi'}, 11: {'club': 'Mr. Hi'}, 12: {'club': 'Mr. Hi'}, 13: {'club': 'Mr. Hi'}, 14: {'club': 'Officer'}, 15: {'club': 'Officer'}, 16: {'club': 'Mr. Hi'}, 17: {'club': 'Mr. Hi'}, 18: {'club': 'Officer'}, 19: {'club': 'Mr. Hi'}, 20: {'club': 'Officer'}, 21: {'club': 'Mr. Hi'}, 22: {'club': 'Officer'}, 23: {'club': 'Officer'}, 24: {'club': 'Officer'}, 25: {'club': 'Officer'}, 26: {'club': 'Officer'}, 27: {'club': 'Officer'}, 28: {'club': 'Officer'}, 29: {'club': 'Officer'}, 30: {'club': 'Officer'}, 31: {'club': 'Officer'}, 32: {'club': 'Officer'}, 33: {'club': 'Officer'}})"
      ]
     },
     "execution_count": 64,
     "metadata": {},
     "output_type": "execute_result"
    }
   ],
   "source": [
    "G.nodes.data()"
   ]
  },
  {
   "cell_type": "code",
   "execution_count": 65,
   "metadata": {},
   "outputs": [
    {
     "data": {
      "text/plain": [
       "NodeDataView({1: {'color': 'red', 'name': 'A'}, 2: {'color': 'green', 'name': 'B'}, 3: {'color': 'blue', 'name': 'C'}, 4: {'color': 'red', 'name': 'D'}, 5: {'color': 'green', 'name': 'D'}, 6: {'color': 'blue', 'name': 'E'}, 7: {'color': 'red', 'name': 'F'}, 8: {'color': 'green', 'name': 'G'}, 9: {'color': 'blue', 'name': 'H'}})"
      ]
     },
     "execution_count": 65,
     "metadata": {},
     "output_type": "execute_result"
    }
   ],
   "source": [
    "GG.nodes.data()"
   ]
  }
 ],
 "metadata": {
  "kernelspec": {
   "display_name": "Python 3",
   "language": "python",
   "name": "python3"
  },
  "language_info": {
   "codemirror_mode": {
    "name": "ipython",
    "version": 3
   },
   "file_extension": ".py",
   "mimetype": "text/x-python",
   "name": "python",
   "nbconvert_exporter": "python",
   "pygments_lexer": "ipython3",
   "version": "3.10.0"
  },
  "orig_nbformat": 4
 },
 "nbformat": 4,
 "nbformat_minor": 2
}
